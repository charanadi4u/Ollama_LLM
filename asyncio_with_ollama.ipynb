{
 "cells": [
  {
   "cell_type": "code",
   "execution_count": 1,
   "id": "cdd6acc2-ca07-41ff-ab7d-b66b9b237d82",
   "metadata": {},
   "outputs": [],
   "source": [
    "import json\n",
    "import ollama\n",
    "import asyncio"
   ]
  },
  {
   "cell_type": "code",
   "execution_count": 3,
   "id": "3c49d8fb-dae1-4960-9509-254ead3abfef",
   "metadata": {},
   "outputs": [],
   "source": [
    "# Simulates an API call to get flight times\n",
    "# In a real application, this would fetch data from a live database or API\n",
    "\n",
    "def get_flight_times(departure: str, arrival: str) -> str:\n",
    "    flights = {\n",
    "        'NYC-LAX': {'departure': '08:00 AM', 'arrival': '11:30 AM', 'duration': '5h 30m'},\n",
    "        'LAX-NYC': {'departure': '02:00 PM', 'arrival': '10:30 PM', 'duration': '5h 30m'},\n",
    "        'LHR-JFK': {'departure': '10:00 AM', 'arrival': '01:00 PM', 'duration': '8h 00m'},\n",
    "        'JFK-LHR': {'departure': '09:00 PM', 'arrival': '09:00 AM', 'duration': '7h 00m'},\n",
    "        'CDG-DXB': {'departure': '11:00 AM', 'arrival': '08:00 PM', 'duration': '6h 00m'},\n",
    "        'DXB-CDG': {'departure': '03:00 AM', 'arrival': '07:30 AM', 'duration': '7h 30m'},\n",
    "      }\n",
    "\n",
    "    key = f'{departure}-{arrival}'.upper()\n",
    "    return json.dumps(flights.get(key, {'error': 'Flight not found'}))"
   ]
  },
  {
   "cell_type": "code",
   "execution_count": 11,
   "id": "026abf51-8bb7-4547-8ff9-99e7199ab1fd",
   "metadata": {},
   "outputs": [],
   "source": [
    "import os\n",
    "from langchain_groq import ChatGroq"
   ]
  },
  {
   "cell_type": "code",
   "execution_count": 21,
   "id": "b0763a5a-ef0e-4906-ac81-ddca9c90fe7c",
   "metadata": {},
   "outputs": [],
   "source": [
    "# # Run the async function\n",
    "# import os\n",
    "# from langchain_groq import ChatGroq\n",
    "# api_key = os.getenv(\"GROQ_API_KEY\")\n",
    "# model = ChatGroq(model=\"llama3-70b-8192\")\n",
    "# asyncio.run(run('model'))"
   ]
  },
  {
   "cell_type": "code",
   "execution_count": 18,
   "id": "9aebdf60-88db-43d6-856a-92427b26c4e5",
   "metadata": {},
   "outputs": [
    {
     "name": "stdout",
     "output_type": "stream",
     "text": [
      "The model didn't use the function. Its response was:\n",
      "The flight time from New York City (JFK or LGA airports, which serve NYC) to Los Angeles (LAX airport) varies depending on several factors, including:\n",
      "\n",
      "1. Flight route: Some flights might take a more northerly route over Canada, while others may fly south of California.\n",
      "2. Airline and aircraft type: The efficiency of different airlines and the type of aircraft used can affect flight times.\n",
      "3. Weather conditions: Inclement weather like storms or strong headwinds can slow down flights.\n",
      "\n",
      "That being said, here are some approximate non-stop flight times from NYC to LAX:\n",
      "\n",
      "* Average flight time: 5 hours and 30 minutes to 6 hours\n",
      "* Longest commercial flight time: Approximately 7 hours (some flights with more stops or less efficient routes)\n",
      "* Shortest possible flight time: Around 4 hours and 45 minutes (for example, on some specific days when winds are favorable)\n",
      "\n",
      "Keep in mind that these estimates assume you're flying non-stop. If your flight has layovers or connections, the overall travel time will be longer.\n",
      "\n",
      "To give you a better idea, here's an estimate of the actual flight times for some major airlines:\n",
      "\n",
      "* American Airlines: 5 hours and 25 minutes\n",
      "* Delta Air Lines: 5 hours and 30 minutes\n",
      "* United Airlines: 5 hours and 35 minutes\n",
      "\n",
      "Please note that these are approximate values and may vary depending on your specific travel dates, flight schedules, and routes. Always check with the airline for the most up-to-date information before booking your ticket!\n"
     ]
    }
   ],
   "source": [
    "import json\n",
    "import asyncio\n",
    "\n",
    "# Simulates an API call to get flight times\n",
    "def get_flight_times(departure: str, arrival: str) -> str:\n",
    "    flights = {\n",
    "        'NYC-LAX': {'departure': '08:00 AM', 'arrival': '11:30 AM', 'duration': '5h 30m'},\n",
    "        'LAX-NYC': {'departure': '02:00 PM', 'arrival': '10:30 PM', 'duration': '5h 30m'},\n",
    "        'LHR-JFK': {'departure': '10:00 AM', 'arrival': '01:00 PM', 'duration': '8h 00m'},\n",
    "        'JFK-LHR': {'departure': '09:00 PM', 'arrival': '09:00 AM', 'duration': '7h 00m'},\n",
    "        'CDG-DXB': {'departure': '11:00 AM', 'arrival': '08:00 PM', 'duration': '6h 00m'},\n",
    "        'DXB-CDG': {'departure': '03:00 AM', 'arrival': '07:30 AM', 'duration': '7h 30m'},\n",
    "    }\n",
    "\n",
    "    key = f'{departure}-{arrival}'.upper()\n",
    "    return json.dumps(flights.get(key, {'error': 'Flight not found'}))\n",
    "\n",
    "\n",
    "async def run(model: str):\n",
    "    client = ollama.AsyncClient()\n",
    "    messages = [{'role': 'user', 'content': 'What is the flight time from New York (NYC) to Los Angeles (LAX)?'}]\n",
    "\n",
    "    response = await client.chat(\n",
    "        model=model,\n",
    "        messages=messages\n",
    "    )\n",
    "\n",
    "    messages.append(response['message'])\n",
    "\n",
    "    # Check if the response contains the tool call indicator\n",
    "    if 'get_flight_times' in response['message']['content']:\n",
    "        # Extract the departure and arrival info from the response content\n",
    "        departure = 'NYC'\n",
    "        arrival = 'LAX'\n",
    "        function_response = get_flight_times(departure, arrival)\n",
    "        messages.append({'role': 'tool', 'content': function_response})\n",
    "\n",
    "        # Make the second API call with the updated messages\n",
    "        final_response = await client.chat(model=model, messages=messages)\n",
    "        print(final_response['message']['content'])\n",
    "    else:\n",
    "        print(\"The model didn't use the function. Its response was:\")\n",
    "        print(response['message']['content'])\n",
    "\n",
    "\n",
    "# Run the async function\n",
    "asyncio.run(run('llama3.1:8b'))\n"
   ]
  },
  {
   "cell_type": "code",
   "execution_count": 19,
   "id": "1974b47a-2d28-4303-b7d4-1e9bcd89077f",
   "metadata": {},
   "outputs": [
    {
     "name": "stdout",
     "output_type": "stream",
     "text": [
      "The model didn't use the function. Its response was:\n",
      "The average non-stop flight time from New York's John F. Kennedy International Airport (JFK), LaGuardia Airport (LGA), or Newark Liberty International Airport (EWR) in New Jersey to Los Angeles International Airport (LAX) is approximately 5 hours.\n",
      "\n",
      "Here are the estimated non-stop flight times from each of these airports:\n",
      "\n",
      "- From JFK: 5 hours\n",
      "- From LGA: 5 hours and 15 minutes\n",
      "- From EWR: 5 hours\n",
      "\n",
      "Please note that actual flight times may vary depending on several factors, including air traffic, weather conditions, and the specific flight route taken.\n"
     ]
    }
   ],
   "source": [
    "import json\n",
    "import asyncio\n",
    "\n",
    "# Simulates an API call to get flight times\n",
    "def get_flight_times(departure: str, arrival: str) -> str:\n",
    "    flights = {\n",
    "        'NYC-LAX': {'departure': '08:00 AM', 'arrival': '11:30 AM', 'duration': '5h 30m'},\n",
    "        'LAX-NYC': {'departure': '02:00 PM', 'arrival': '10:30 PM', 'duration': '5h 30m'},\n",
    "        'LHR-JFK': {'departure': '10:00 AM', 'arrival': '01:00 PM', 'duration': '8h 00m'},\n",
    "        'JFK-LHR': {'departure': '09:00 PM', 'arrival': '09:00 AM', 'duration': '7h 00m'},\n",
    "        'CDG-DXB': {'departure': '11:00 AM', 'arrival': '08:00 PM', 'duration': '6h 00m'},\n",
    "        'DXB-CDG': {'departure': '03:00 AM', 'arrival': '07:30 AM', 'duration': '7h 30m'},\n",
    "    }\n",
    "\n",
    "    key = f'{departure}-{arrival}'.upper()\n",
    "    return json.dumps(flights.get(key, {'error': 'Flight not found'}))\n",
    "\n",
    "\n",
    "async def run(model: str):\n",
    "    client = ollama.AsyncClient()\n",
    "    messages = [{'role': 'user', 'content': 'What is the flight time from New York (NYC) to Los Angeles (LAX)?'}]\n",
    "\n",
    "    response = await client.chat(\n",
    "        model=model,\n",
    "        messages=messages\n",
    "    )\n",
    "\n",
    "    messages.append(response['message'])\n",
    "\n",
    "    # Check if the response contains a specific keyword indicating a function call\n",
    "    if 'NYC' in response['message']['content'] and 'LAX' in response['message']['content']:\n",
    "        # Extract the departure and arrival info from the response content\n",
    "        departure = 'NYC'\n",
    "        arrival = 'LAX'\n",
    "        function_response = get_flight_times(departure, arrival)\n",
    "        messages.append({'role': 'tool', 'content': function_response})\n",
    "\n",
    "        # Make the second API call with the updated messages\n",
    "        final_response = await client.chat(model=model, messages=messages)\n",
    "        print(final_response['message']['content'])\n",
    "    else:\n",
    "        print(\"The model didn't use the function. Its response was:\")\n",
    "        print(response['message']['content'])\n",
    "\n",
    "\n",
    "# Run the async function\n",
    "asyncio.run(run('llama3.1:8b'))\n"
   ]
  },
  {
   "cell_type": "code",
   "execution_count": null,
   "id": "459973f9-e899-4ad5-ad5a-1c1d84f0e252",
   "metadata": {},
   "outputs": [],
   "source": []
  }
 ],
 "metadata": {
  "kernelspec": {
   "display_name": "Python 3 (ipykernel)",
   "language": "python",
   "name": "python3"
  },
  "language_info": {
   "codemirror_mode": {
    "name": "ipython",
    "version": 3
   },
   "file_extension": ".py",
   "mimetype": "text/x-python",
   "name": "python",
   "nbconvert_exporter": "python",
   "pygments_lexer": "ipython3",
   "version": "3.11.7"
  }
 },
 "nbformat": 4,
 "nbformat_minor": 5
}
